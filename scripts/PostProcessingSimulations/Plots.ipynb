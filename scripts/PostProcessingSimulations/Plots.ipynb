{
 "cells": [
  {
   "cell_type": "code",
   "execution_count": 14,
   "metadata": {},
   "outputs": [],
   "source": [
    "def GetPlotKwargs(Column = 'aadt',cmap = \"inferno\"):\n",
    "    return {\"projection\": gcrs.AlbersEqualArea(),\n",
    "            \"scale\": Column,\n",
    "            \"hue\": Column,\n",
    "            \"cmap\": cmap,\n",
    "            \"norm\": LogNorm(),\n",
    "            \"legend\": True}\n"
   ]
  },
  {
   "cell_type": "markdown",
   "metadata": {},
   "source": [
    "# Trying Geopandas"
   ]
  },
  {
   "cell_type": "code",
   "execution_count": null,
   "metadata": {},
   "outputs": [],
   "source": [
    "import geopandas as gpd\n",
    "import geoplot as gplt\n",
    "import geoplot.crs as gcrs\n",
    "import matplotlib.pyplot as plt\n",
    "import matplotlib.colors as mcolors\n",
    "from matplotlib.colors import LogNorm\n",
    "from matplotlib.gridspec import GridSpec\n",
    "import osmnx as ox\n",
    "import os\n",
    "import matplotlib.pyplot as plt\n",
    "import numpy as np\n",
    "import json\n",
    "from OSMConstants import *\n",
    "from GeoJsonFunctions import *\n",
    "from OutputStats import *\n",
    "City = \"BOS\"\n",
    "File = os.path.join(os.environ[\"TRAFFIC_DIR\"],'data','carto',City,City + '_new_tertiary_simplified.graphml')\n",
    "GeojsonNodes, GeoJsonEdges, Bool = GetGeopandas(File)\n",
    "with open(\"/home/alberto/LPSim/traffic_phase_transition/config/post_processing_BOS.json\",\"r\") as f:\n",
    "    Config = json.load(f)\n",
    "Config = dict(Config)\n",
    "for UCI in Config.keys():\n",
    "    if not (isinstance(Config[UCI],str) or isinstance(Config[UCI],int)):\n",
    "        print(\"UCI: \",UCI)\n",
    "        for R in Config[UCI].keys():\n",
    "            print(\"R: \",R)\n",
    "            if not isinstance(Config[UCI][R],int):\n",
    "                OS = OutputStats(R,UCI,Config,GeoJsonEdges)\n",
    "            else:\n",
    "                print(\"Config: \",Config[UCI][R])"
   ]
  },
  {
   "cell_type": "code",
   "execution_count": null,
   "metadata": {},
   "outputs": [],
   "source": [
    "\n",
    "\n",
    "def PlotConditionalHistogram(Geojson,Column,ColumnsConditioned,Condition):\n",
    "    \"\"\"\n",
    "        Input:\n",
    "            Geojson: Geopandas DataFrame\n",
    "            Column: Column to plot\n",
    "            ColumnsConditioned: list: Columns to condition from\n",
    "            Condition: list: Condition of bools\n",
    "            ConditionValue: Value of the condition\n",
    "    \"\"\"\n",
    "    GeojsonCondition = Geojson\n",
    "    title = \"Count(\" + Column + \"|\" \n",
    "    for ColumnConditioned in ColumnsConditioned:\n",
    "        GeojsonCondition = GeojsonCondition[Condition]\n",
    "        title = title + ColumnsConditioned \n",
    "    title = title + \")\"\n",
    "    plt.hist(GeojsonCondition[Column],bins = 50)\n",
    "    plt.xlabel(Column)\n",
    "    plt.show()\n",
    "    return\n",
    "RoadType = ExtractUniqueValuesHighwayFromGeojson(Geojson)\n",
    "GeoJson = CleanGeojson(Geojson)\n",
    "plt.hist(Geojson['maxspeed_int'],bins = 50)\n",
    "plt.xlabel('Max Speed [Mph]')\n",
    "plt.show()\n",
    "plt.hist(Geojson['capacity'],bins = len(RoadType))\n",
    "plt.xlabel('Capacity [veh/hour]')\n",
    "plt.show()"
   ]
  },
  {
   "cell_type": "code",
   "execution_count": null,
   "metadata": {},
   "outputs": [],
   "source": [
    "from Plots import PlotTrafficInGeopandasNet\n",
    "City = \"BOS\"\n",
    "PlotDir = os.path.join(os.environ[\"TRAFFIC_DIR\"],'data','carto',City,'plots')\n",
    "if not os.path.isdir(PlotDir):\n",
    "    os.makedirs(PlotDir)\n",
    "PlotFile = os.path.join(PlotDir,City + '_max_speed_int.png')    \n",
    "Title = \"Max Speed [Mph]\"\n",
    "PlotTrafficInGeopandasNet(Geojson,TrafficLevel=\"maxspeed_int\",ColorBarExplanation = \"speed road\",PlotFile = PlotFile,Title = Title,dpi = 300,IsLognorm = False)"
   ]
  },
  {
   "cell_type": "code",
   "execution_count": 22,
   "metadata": {},
   "outputs": [
    {
     "name": "stdout",
     "output_type": "stream",
     "text": [
      "['secondary' 'secondary_link' 'unclassified' 'tertiary' 'primary_link'\n",
      " 'primary' 'motorway_link' 'motorway' 'tertiary_link' 'trunk' 'trunk_link']\n"
     ]
    }
   ],
   "source": [
    "import numpy as np\n"
   ]
  },
  {
   "cell_type": "code",
   "execution_count": null,
   "metadata": {},
   "outputs": [],
   "source": [
    "G = ox.load_graphml(File)\n"
   ]
  },
  {
   "cell_type": "code",
   "execution_count": null,
   "metadata": {},
   "outputs": [],
   "source": []
  }
 ],
 "metadata": {
  "kernelspec": {
   "display_name": "geoplots",
   "language": "python",
   "name": "python3"
  },
  "language_info": {
   "codemirror_mode": {
    "name": "ipython",
    "version": 3
   },
   "file_extension": ".py",
   "mimetype": "text/x-python",
   "name": "python",
   "nbconvert_exporter": "python",
   "pygments_lexer": "ipython3",
   "version": "3.12.4"
  }
 },
 "nbformat": 4,
 "nbformat_minor": 2
}
