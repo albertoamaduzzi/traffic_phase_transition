{
 "cells": [
  {
   "cell_type": "code",
   "execution_count": null,
   "metadata": {},
   "outputs": [],
   "source": [
    "import networkx as nx\n",
    "import polars as pl\n",
    "Edges = pl.read_csv(\"/home/alberto/LPSim/traffic_phase_transition/data/carto/BOS/edges.csv\")\n",
    "Dt = 15\n",
    "MinutesInDay = 24*60\n",
    "IntDtMinutesArray = [i for i in range(0, MinutesInDay, Dt)] \n",
    "for t in IntDtMinutesArray:\n",
    "    Edges[f\"trafficked_{t}\"] = pl.Series(\"\", [False for _ in range(Edges.shape[0])])"
   ]
  },
  {
   "cell_type": "code",
   "execution_count": null,
   "metadata": {},
   "outputs": [
    {
     "data": {
      "text/html": [
       "<div><style>\n",
       ".dataframe > thead > tr,\n",
       ".dataframe > tbody > tr {\n",
       "  text-align: right;\n",
       "  white-space: pre-wrap;\n",
       "}\n",
       "</style>\n",
       "<small>shape: (23_467, 6)</small><table border=\"1\" class=\"dataframe\"><thead><tr><th>osmid</th><th>x</th><th>y</th><th>ref</th><th>highway</th><th>index</th></tr><tr><td>i64</td><td>f64</td><td>f64</td><td>str</td><td>str</td><td>i64</td></tr></thead><tbody><tr><td>61816807</td><td>-70.844629</td><td>41.995558</td><td>null</td><td>null</td><td>0</td></tr><tr><td>61817002</td><td>-70.843934</td><td>41.996081</td><td>null</td><td>null</td><td>1</td></tr><tr><td>61817016</td><td>-70.866671</td><td>41.973369</td><td>null</td><td>null</td><td>2</td></tr><tr><td>61817409</td><td>-70.84401</td><td>41.995529</td><td>null</td><td>null</td><td>3</td></tr><tr><td>61817412</td><td>-70.872564</td><td>41.993312</td><td>null</td><td>null</td><td>4</td></tr><tr><td>&hellip;</td><td>&hellip;</td><td>&hellip;</td><td>&hellip;</td><td>&hellip;</td><td>&hellip;</td></tr><tr><td>10281222830</td><td>-71.446432</td><td>42.763661</td><td>null</td><td>null</td><td>23462</td></tr><tr><td>10281222831</td><td>-71.446355</td><td>42.763559</td><td>null</td><td>null</td><td>23463</td></tr><tr><td>10281222833</td><td>-71.44625</td><td>42.763443</td><td>null</td><td>null</td><td>23464</td></tr><tr><td>10281222839</td><td>-71.445408</td><td>42.764006</td><td>null</td><td>null</td><td>23465</td></tr><tr><td>10844948681</td><td>-71.424942</td><td>42.567802</td><td>null</td><td>null</td><td>23466</td></tr></tbody></table></div>"
      ],
      "text/plain": [
       "shape: (23_467, 6)\n",
       "┌─────────────┬────────────┬───────────┬──────┬─────────┬───────┐\n",
       "│ osmid       ┆ x          ┆ y         ┆ ref  ┆ highway ┆ index │\n",
       "│ ---         ┆ ---        ┆ ---       ┆ ---  ┆ ---     ┆ ---   │\n",
       "│ i64         ┆ f64        ┆ f64       ┆ str  ┆ str     ┆ i64   │\n",
       "╞═════════════╪════════════╪═══════════╪══════╪═════════╪═══════╡\n",
       "│ 61816807    ┆ -70.844629 ┆ 41.995558 ┆ null ┆ null    ┆ 0     │\n",
       "│ 61817002    ┆ -70.843934 ┆ 41.996081 ┆ null ┆ null    ┆ 1     │\n",
       "│ 61817016    ┆ -70.866671 ┆ 41.973369 ┆ null ┆ null    ┆ 2     │\n",
       "│ 61817409    ┆ -70.84401  ┆ 41.995529 ┆ null ┆ null    ┆ 3     │\n",
       "│ 61817412    ┆ -70.872564 ┆ 41.993312 ┆ null ┆ null    ┆ 4     │\n",
       "│ …           ┆ …          ┆ …         ┆ …    ┆ …       ┆ …     │\n",
       "│ 10281222830 ┆ -71.446432 ┆ 42.763661 ┆ null ┆ null    ┆ 23462 │\n",
       "│ 10281222831 ┆ -71.446355 ┆ 42.763559 ┆ null ┆ null    ┆ 23463 │\n",
       "│ 10281222833 ┆ -71.44625  ┆ 42.763443 ┆ null ┆ null    ┆ 23464 │\n",
       "│ 10281222839 ┆ -71.445408 ┆ 42.764006 ┆ null ┆ null    ┆ 23465 │\n",
       "│ 10844948681 ┆ -71.424942 ┆ 42.567802 ┆ null ┆ null    ┆ 23466 │\n",
       "└─────────────┴────────────┴───────────┴──────┴─────────┴───────┘"
      ]
     },
     "execution_count": 2,
     "metadata": {},
     "output_type": "execute_result"
    }
   ],
   "source": [
    "p = 0.5\n",
    "import numpy as np\n",
    "# Function to update trafficked_{t} column\n",
    "Edges.group_by(\"u\").agg([pl.col(\"v\") ])\n",
    "def update_trafficked(df, p):\n",
    "    # Iterate over each index\n",
    "    \n",
    "    for idx in df['index']:\n",
    "        # Select rows where pl.col('u') of such index is pl.col('v') of those rows\n",
    "        condition = df['v'] == df['u'][idx]\n",
    "        selected_rows = df.filter(condition)\n",
    "        # Generate random numbers\n",
    "        random_numbers = np.random.uniform(0, 1, len(selected_rows))\n",
    "        \n",
    "        # Update trafficked_{t} column\n",
    "        for i, row in selected_rows.iterrows():\n",
    "            if random_numbers[i] > p:\n",
    "                df = df.with_columns(\n",
    "                    pl.when(pl.col('index') == row['index'])\n",
    "                    .then(pl.col('trafficked_{t}') | True)\n",
    "                    .otherwise(pl.col('trafficked_{t}'))\n",
    "                    .alias('trafficked_{t}')\n",
    "                )\n",
    "    return df\n"
   ]
  },
  {
   "cell_type": "code",
   "execution_count": 3,
   "metadata": {},
   "outputs": [
    {
     "data": {
      "text/html": [
       "<div><style>\n",
       ".dataframe > thead > tr,\n",
       ".dataframe > tbody > tr {\n",
       "  text-align: right;\n",
       "  white-space: pre-wrap;\n",
       "}\n",
       "</style>\n",
       "<small>shape: (54_951, 8)</small><table border=\"1\" class=\"dataframe\"><thead><tr><th>uniqueid</th><th>u</th><th>v</th><th>length</th><th>speed_mph</th><th>lanes</th><th>osmid_u</th><th>osmid_v</th></tr><tr><td>i64</td><td>i64</td><td>i64</td><td>f64</td><td>i64</td><td>i64</td><td>i64</td><td>i64</td></tr></thead><tbody><tr><td>0</td><td>0</td><td>9</td><td>51.8</td><td>35</td><td>1</td><td>61816807</td><td>61819222</td></tr><tr><td>1</td><td>0</td><td>3</td><td>55.4</td><td>25</td><td>1</td><td>61816807</td><td>61817409</td></tr><tr><td>2</td><td>0</td><td>6</td><td>2223.4</td><td>35</td><td>1</td><td>61816807</td><td>61818775</td></tr><tr><td>3</td><td>1</td><td>10</td><td>1116.2</td><td>35</td><td>1</td><td>61817002</td><td>61819564</td></tr><tr><td>4</td><td>1</td><td>9</td><td>30.0</td><td>35</td><td>1</td><td>61817002</td><td>61819222</td></tr><tr><td>&hellip;</td><td>&hellip;</td><td>&hellip;</td><td>&hellip;</td><td>&hellip;</td><td>&hellip;</td><td>&hellip;</td><td>&hellip;</td></tr><tr><td>54946</td><td>23464</td><td>23463</td><td>15.6</td><td>20</td><td>1</td><td>10281222833</td><td>10281222831</td></tr><tr><td>54947</td><td>23465</td><td>23463</td><td>105.5</td><td>20</td><td>1</td><td>10281222839</td><td>10281222831</td></tr><tr><td>54948</td><td>23466</td><td>23186</td><td>16.9</td><td>25</td><td>1</td><td>10844948681</td><td>72474574</td></tr><tr><td>54949</td><td>23466</td><td>23165</td><td>95.0</td><td>50</td><td>1</td><td>10844948681</td><td>72330377</td></tr><tr><td>54950</td><td>23466</td><td>23163</td><td>47.8</td><td>25</td><td>2</td><td>10844948681</td><td>72324470</td></tr></tbody></table></div>"
      ],
      "text/plain": [
       "shape: (54_951, 8)\n",
       "┌──────────┬───────┬───────┬────────┬───────────┬───────┬─────────────┬─────────────┐\n",
       "│ uniqueid ┆ u     ┆ v     ┆ length ┆ speed_mph ┆ lanes ┆ osmid_u     ┆ osmid_v     │\n",
       "│ ---      ┆ ---   ┆ ---   ┆ ---    ┆ ---       ┆ ---   ┆ ---         ┆ ---         │\n",
       "│ i64      ┆ i64   ┆ i64   ┆ f64    ┆ i64       ┆ i64   ┆ i64         ┆ i64         │\n",
       "╞══════════╪═══════╪═══════╪════════╪═══════════╪═══════╪═════════════╪═════════════╡\n",
       "│ 0        ┆ 0     ┆ 9     ┆ 51.8   ┆ 35        ┆ 1     ┆ 61816807    ┆ 61819222    │\n",
       "│ 1        ┆ 0     ┆ 3     ┆ 55.4   ┆ 25        ┆ 1     ┆ 61816807    ┆ 61817409    │\n",
       "│ 2        ┆ 0     ┆ 6     ┆ 2223.4 ┆ 35        ┆ 1     ┆ 61816807    ┆ 61818775    │\n",
       "│ 3        ┆ 1     ┆ 10    ┆ 1116.2 ┆ 35        ┆ 1     ┆ 61817002    ┆ 61819564    │\n",
       "│ 4        ┆ 1     ┆ 9     ┆ 30.0   ┆ 35        ┆ 1     ┆ 61817002    ┆ 61819222    │\n",
       "│ …        ┆ …     ┆ …     ┆ …      ┆ …         ┆ …     ┆ …           ┆ …           │\n",
       "│ 54946    ┆ 23464 ┆ 23463 ┆ 15.6   ┆ 20        ┆ 1     ┆ 10281222833 ┆ 10281222831 │\n",
       "│ 54947    ┆ 23465 ┆ 23463 ┆ 105.5  ┆ 20        ┆ 1     ┆ 10281222839 ┆ 10281222831 │\n",
       "│ 54948    ┆ 23466 ┆ 23186 ┆ 16.9   ┆ 25        ┆ 1     ┆ 10844948681 ┆ 72474574    │\n",
       "│ 54949    ┆ 23466 ┆ 23165 ┆ 95.0   ┆ 50        ┆ 1     ┆ 10844948681 ┆ 72330377    │\n",
       "│ 54950    ┆ 23466 ┆ 23163 ┆ 47.8   ┆ 25        ┆ 2     ┆ 10844948681 ┆ 72324470    │\n",
       "└──────────┴───────┴───────┴────────┴───────────┴───────┴─────────────┴─────────────┘"
      ]
     },
     "execution_count": 3,
     "metadata": {},
     "output_type": "execute_result"
    }
   ],
   "source": [
    "Edges"
   ]
  },
  {
   "cell_type": "code",
   "execution_count": null,
   "metadata": {},
   "outputs": [],
   "source": []
  }
 ],
 "metadata": {
  "kernelspec": {
   "display_name": "geostuff",
   "language": "python",
   "name": "python3"
  },
  "language_info": {
   "codemirror_mode": {
    "name": "ipython",
    "version": 3
   },
   "file_extension": ".py",
   "mimetype": "text/x-python",
   "name": "python",
   "nbconvert_exporter": "python",
   "pygments_lexer": "ipython3",
   "version": "3.12.2"
  }
 },
 "nbformat": 4,
 "nbformat_minor": 2
}
