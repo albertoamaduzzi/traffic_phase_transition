{
 "cells": [
  {
   "cell_type": "markdown",
   "metadata": {},
   "source": [
    "# CREATE GEOMETRY and FLUXES FROM DATA"
   ]
  },
  {
   "cell_type": "markdown",
   "metadata": {},
   "source": [
    "## Import"
   ]
  },
  {
   "cell_type": "code",
   "execution_count": null,
   "metadata": {},
   "outputs": [],
   "source": [
    "# A \n",
    "import ast\n",
    "# C\n",
    "from collections import defaultdict\n",
    "# G\n",
    "import gc\n",
    "import geopandas as gpd\n",
    "# J\n",
    "import json\n",
    "# M\n",
    "import matplotlib.pyplot as plt\n",
    "from mpl_toolkits.mplot3d import Axes3D\n",
    "from multiprocessing import Pool\n",
    "# N\n",
    "from numba import prange\n",
    "import numpy as np\n",
    "# O\n",
    "import os\n",
    "# P\n",
    "import pandas as pd\n",
    "# S\n",
    "from shapely.geometry import box,LineString,Point,MultiPoint,MultiLineString,MultiPolygon,Polygon\n",
    "from shapely.ops import unary_union\n",
    "import socket\n",
    "import sys\n",
    "# T\n",
    "from termcolor import  cprint\n",
    "import time\n",
    "\n",
    "# Project specific\n",
    "# C\n",
    "from ComputeGrid import *\n",
    "# F\n",
    "current_dir = os.path.join(os.getcwd()) \n",
    "mother_path = os.path.abspath(os.path.join(current_dir, os.pardir))\n",
    "print('mother_path:', mother_path)\n",
    "sys.path.append(os.path.join(mother_path, 'PreProcessing'))\n",
    "sys.path.append(os.path.join(mother_path))\n",
    "from FittingProcedures import *\n",
    "# G\n",
    "from GeometrySphere import *\n",
    "from GenerateModifiedFluxesSimulation import *\n",
    "from Grid import *\n",
    "# H \n",
    "from Hexagon import *\n",
    "if socket.gethostname()=='artemis.ist.berkeley.edu':\n",
    "    sys.path.append(os.path.join('/home/alberto/LPSim','traffic_phase_transition','scripts','ServerCommunication'))\n",
    "else:\n",
    "    sys.path.append(os.path.join(os.getenv('TRAFFIC_DIR'),'scripts','ServerCommunication'))\n",
    "from HostConnection import *\n",
    "# M\n",
    "from MainPolycentrism import *\n",
    "from ModifyPotential import *\n",
    "# O \n",
    "from ODfromfma import *\n",
    "# P\n",
    "from plot import *\n",
    "from Polycentrism import *\n",
    "from PolycentrismPlot import *\n",
    "from PolygonSettings import *\n",
    "from Potential import *\n",
    "from PreprocessingObj import *\n",
    "\n",
    "\n",
    "\n",
    "## BASIC PARAMS\n",
    "gc.set_threshold(10000,50,50)\n",
    "plt.rcParams.update({\n",
    "    \"text.usetex\": False,\n",
    "})\n",
    "\n"
   ]
  },
  {
   "cell_type": "markdown",
   "metadata": {},
   "source": [
    "## Single City Variables"
   ]
  },
  {
   "cell_type": "code",
   "execution_count": null,
   "metadata": {},
   "outputs": [],
   "source": [
    "# Always Needed\n",
    "NameCity = \"BOS\"\n",
    "# Computation Grid\n",
    "ArgsComputationGrid = [(NameCity,TRAFFIC_DIR)]"
   ]
  },
  {
   "cell_type": "markdown",
   "metadata": {},
   "source": [
    "## Multiple Cities Variables"
   ]
  },
  {
   "cell_type": "code",
   "execution_count": null,
   "metadata": {},
   "outputs": [],
   "source": [
    "# Always Needed\n",
    "NameCities = os.listdir(os.path.join(TRAFFIC_DIR,'data','carto'))\n",
    "if len(NameCities)==0:\n",
    "    cprint('No city found in the data/cart folder', 'red')\n",
    "    sys.exit()\n",
    "# Computation Grid\n",
    "ArgsComputationGrid = [(NameCities[i],TRAFFIC_DIR) for i in range(len(list_cities))]"
   ]
  },
  {
   "cell_type": "markdown",
   "metadata": {},
   "source": [
    "### Compute Grid"
   ]
  },
  {
   "cell_type": "code",
   "execution_count": null,
   "metadata": {},
   "outputs": [],
   "source": [
    "for arg in ArgsComputationGrid:\n",
    "    ComputeGrid(*arg)\n"
   ]
  },
  {
   "cell_type": "markdown",
   "metadata": {},
   "source": [
    "# COMPUTE VECTOR FIELD"
   ]
  },
  {
   "cell_type": "markdown",
   "metadata": {},
   "source": []
  },
  {
   "cell_type": "code",
   "execution_count": null,
   "metadata": {},
   "outputs": [],
   "source": [
    "name = 'BOS'\n",
    "grid_size = 0.02\n",
    "hexagon_resolution = 8\n",
    "dir_grid = os.path.join(TRAFFIC_DIR,'data','carto',name,'grid',str(grid_size))\n",
    "\n",
    "## BASIC NEEDED OBJECTS\n",
    "SFO_obj = GeometricalSettingsSpatialPartition(name,TRAFFIC_DIR)\n",
    "bbox = SFO_obj.bounding_box\n",
    "minx, miny, maxx, maxy = bbox\n",
    "dir_geometries = os.path.join(TRAFFIC_DIR,'data','carto','{0}'.format(name))\n",
    "grid = GetGrid(grid_size,SFO_obj.bounding_box,'EPSG:4326',dir_geometries)\n",
    "grid = GetBoundariesInterior(grid,SFO_obj)\n",
    "df_distance,FoundDistMat = GetDirectionMatrix(dir_geometries,grid_size)\n",
    "Tij = GetODGrid(dir_geometries,str(grid_size))\n",
    "lattice = nx.read_graphml(os.path.join(dir_grid,\"centroid_lattice.graphml\"))\n",
    "#VectorField = pd.read_csv('/home/alberto/LPSim/traffic_phase_transition/data/carto/BOS/grid/0.02/VectorField.csv')\n",
    "#Potential = pd.read_csv('/home/alberto/LPSim/traffic_phase_transition/data/carto/BOS/grid/0.02/PotentialDataFrame.csv')\n",
    "\n",
    "# GET POTENTIAL AND VECTOR FIELD\n",
    "VectorField = GetVectorField(Tij,df_distance)\n",
    "VectorFieldDir = os.path.join(TRAFFIC_DIR,'data','carto',name,'grid',str(grid_size))\n",
    "lattice = GetPotentialLattice(lattice,VectorField)\n",
    "lattice = SmoothPotential(lattice)\n",
    "PotentialDataframe = ConvertLattice2PotentialDataframe(lattice)\n",
    "PotentialDataframe = CompletePotentialDataFrame(VectorField,grid,PotentialDataframe)\n",
    "SumPot = np.sum(PotentialDataframe['V_out']) \n",
    "NumGridEdge = grid[grid['relation_to_line']=='edge'].shape[0]\n",
    "\n",
    "\n"
   ]
  },
  {
   "cell_type": "markdown",
   "metadata": {},
   "source": []
  },
  {
   "cell_type": "code",
   "execution_count": null,
   "metadata": {},
   "outputs": [],
   "source": [
    "ComputeInitPotential = True\n",
    "ComputeInitVF = True\n",
    "if ComputeInitVF:\n",
    "    VectorField = GetVectorField(Tij,df_distance)\n",
    "    VectorFieldDir = os.path.join(TRAFFIC_DIR,'data','carto',name,'grid',str(grid_size))\n",
    "    SaveVectorField(VectorField,VectorFieldDir)\n",
    "\n",
    "if ComputeInitPotential:\n",
    "    lattice = GetPotentialLattice(lattice,VectorField)\n",
    "    lattice = SmoothPotential(lattice)\n",
    "    PotentialDataframe = ConvertLattice2PotentialDataframe(lattice)\n",
    "    PotentialDataframe = CompletePotentialDataFrame(VectorField,grid,PotentialDataframe)\n",
    "    SavePotentialDataframe(PotentialDataframe,dir_grid)\n"
   ]
  },
  {
   "cell_type": "markdown",
   "metadata": {},
   "source": [
    "# FIT GRAVITATIONAL MODEL"
   ]
  },
  {
   "cell_type": "code",
   "execution_count": null,
   "metadata": {},
   "outputs": [],
   "source": []
  },
  {
   "cell_type": "markdown",
   "metadata": {},
   "source": [
    "# MODIFY POTENTIAL"
   ]
  },
  {
   "cell_type": "code",
   "execution_count": null,
   "metadata": {},
   "outputs": [],
   "source": [
    "import os\n",
    "TRAFFIC_DIR = '/home/alberto/LPSim/traffic_phase_transition'\n",
    "with open(os.path.join(TRAFFIC_DIR,'data','carto',name,'grid','0.02','origindest2grid.json'),'r') as f:\n",
    "    OD2grid = json.load(f)\n",
    "\n",
    "with open(os.path.join(TRAFFIC_DIR,'data','carto',name,'grid','0.02','grid2origindest.json'),'r') as f:\n",
    "    grid2OD = json.load(f)\n",
    "with open(os.path.join(TRAFFIC_DIR,'data','carto',name,'osmid2idx.json'),'r') as f:\n",
    "    osmid2index = json.load(f)\n",
    "\n",
    "list_peaks = [2,3,4,5,6,8,10,100,200,500] # [2,3,4,5,6,8,10,\n",
    "InfoConfigurationPolicentricity = {num_peaks: defaultdict() for num_peaks in list_peaks}\n",
    "Covarinaces = [1,2,4,8,10,15,20,30,50,100]\n",
    "for cv in Covarinaces:\n",
    "    for distribution in ['exponential']:#['gaussian','exponential']:#,'exponential']: # NOTE: There is some problem with the exponential distribution\n",
    "        InfoCenters = {'center_settings': {\"type\":distribution},'covariance_settings':{\"covariances\":{\"cvx\":cv,\"cvy\":cv},\"Isotropic\": True,\"Random\": False}}\n",
    "        #parameter_values = ((InfoConfigurationPolicentricity,grid,SFO_obj,Tij,df_distance,num_peaks) for num_peaks in list_peaks)\n",
    "        for num_peaks in list_peaks:\n",
    "            InfoConfigurationPolicentricity,UCI = ModifyMorphologyCity(InfoConfigurationPolicentricity,grid,SFO_obj,Tij,df_distance,lattice,num_peaks,TRAFFIC_DIR,name,grid_size,InfoCenters,fraction_fluxes = 200,verbose = True)\n",
    "            if socket.gethostname()=='artemis.ist.berkeley.edu':\n",
    "                SaveOd = \"/home/alberto/LPSim/LivingCity/berkeley_2018/new_full_network\"\n",
    "            else:\n",
    "                SaveOd = f'/home/aamad/Desktop/phd/traffic_phase_transition/data/carto/{name}/OD'\n",
    "            OD_from_T_Modified(InfoConfigurationPolicentricity[num_peaks]['Tij'],\n",
    "                               CityName2RminRmax,\n",
    "                               name,\n",
    "                               osmid2index,\n",
    "                               grid2OD,\n",
    "                               1,\n",
    "                               SaveOd,\n",
    "                               7,\n",
    "                               8,\n",
    "                               round(UCI,3))\n",
    "#with multiprocessing.Pool(processes=multiprocessing.cpu_count() - 4) as pool:\n",
    "    # Map the function to the parameter values\n",
    "#    pool.map(ModifyMorphologyCity, parameter_values)\n"
   ]
  },
  {
   "cell_type": "markdown",
   "metadata": {},
   "source": []
  }
 ],
 "metadata": {
  "language_info": {
   "name": "python"
  }
 },
 "nbformat": 4,
 "nbformat_minor": 2
}
