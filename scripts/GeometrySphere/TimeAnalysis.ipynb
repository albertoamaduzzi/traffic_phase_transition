{
 "cells": [
  {
   "cell_type": "code",
   "execution_count": 1,
   "metadata": {},
   "outputs": [
    {
     "name": "stdout",
     "output_type": "stream",
     "text": [
      "mother_path: /home/alberto/LPSim/traffic_phase_transition/scripts\n",
      "\u001b[33mInitialize Grid: 0.02\u001b[0m\n",
      "\u001b[33mALREADY COMPUTED\u001b[0m\n"
     ]
    }
   ],
   "source": [
    "import pandas as pd\n",
    "import geopandas as gpd\n",
    "import numpy as np\n",
    "import matplotlib.pyplot as plt\n",
    "from mpl_toolkits.mplot3d import Axes3D\n",
    "import os\n",
    "import sys\n",
    "import json\n",
    "import time\n",
    "from shapely.geometry import box,LineString,Point,MultiPoint,MultiLineString,MultiPolygon,Polygon\n",
    "from shapely.ops import unary_union\n",
    "import socket\n",
    "from collections import defaultdict\n",
    "from numba import prange\n",
    "import gc\n",
    "current_dir = os.path.join(os.getcwd()) \n",
    "mother_path = os.path.abspath(os.path.join(current_dir, os.pardir))\n",
    "print('mother_path:', mother_path)\n",
    "sys.path.append(os.path.join(mother_path, 'PreProcessing'))\n",
    "sys.path.append(os.path.join(mother_path))\n",
    "from FittingProcedures import *\n",
    "from plot import *\n",
    "from Potential import *\n",
    "from Grid import *\n",
    "from PreprocessingObj import *\n",
    "from ODfromfma import *\n",
    "import time\n",
    "from GeometrySphere import *\n",
    "from Polycentrism import *\n",
    "from PolycentrismPlot import *\n",
    "from ModifyPotential import *\n",
    "from MainPolycentrism import *\n",
    "\n",
    "#import rustworkx as rw\n",
    "import ast\n",
    "## BASIC PARAMS\n",
    "gc.set_threshold(10000,50,50)\n",
    "plt.rcParams.update({\n",
    "    \"text.usetex\": False,\n",
    "})\n",
    "\n",
    "if socket.gethostname()=='artemis.ist.berkeley.edu':\n",
    "    TRAFFIC_DIR = '/home/alberto/LPSim/traffic_phase_transition'\n",
    "else:\n",
    "    TRAFFIC_DIR = os.getenv('TRAFFIC_DIR')\n",
    "name = 'BOS'\n",
    "grid_size = 0.02\n",
    "hexagon_resolution = 8\n",
    "dir_grid = os.path.join(TRAFFIC_DIR,'data','carto',name,'grid',str(grid_size))\n",
    "\n",
    "## BASIC NEEDED OBJECTS\n",
    "SFO_obj = GeometricalSettingsSpatialPartition(name,TRAFFIC_DIR)\n",
    "bbox = SFO_obj.bounding_box\n",
    "minx, miny, maxx, maxy = bbox\n",
    "dir_geometries = os.path.join(TRAFFIC_DIR,'data','carto','{0}'.format(name))\n",
    "grid = GetGrid(grid_size,SFO_obj.bounding_box,'EPSG:4326',dir_geometries)\n",
    "grid = GetBoundariesInterior(grid,SFO_obj)\n",
    "df_distance,FoundDistMat = GetDirectionMatrix(dir_geometries,grid_size)\n",
    "Tij = GetODGrid(dir_geometries,str(grid_size))\n",
    "lattice = nx.read_graphml(os.path.join(dir_grid,\"centroid_lattice.graphml\"))\n"
   ]
  },
  {
   "cell_type": "code",
   "execution_count": 11,
   "metadata": {},
   "outputs": [
    {
     "name": "stdout",
     "output_type": "stream",
     "text": [
      "{'crs': 'epsg:4326', 'city': 'BOS', 'config_dir_local': '/home/alberto/LPSim/traffic_phase_transition/config', 'tiff_file_dir_local': '/home/alberto/LPSim/traffic_phase_transition/data/carto/tiff_files', 'shape_file_dir_local': '/home/alberto/LPSim/traffic_phase_transition/data/carto/BOS/shape_files', 'ODfma_dir': '/home/alberto/LPSim/traffic_phase_transition/data/carto/BOS/ODfma', 'save_dir_local': '/home/alberto/LPSim/traffic_phase_transition/data/carto/BOS', 'save_dir_server': '/home/alberto/LPSim/LivingCity/berkeley_2018/BOS', 'GraphFromPhml': <networkx.classes.multidigraph.MultiDiGraph object at 0x7f5a9b609c40>, 'gdf_polygons':      tractid    my_area                                           geometry\n",
      "0     630400   9.988907  POLYGON ((-71.35236 41.93142, -71.35281 41.931...\n",
      "1     631100   8.289611  POLYGON ((-71.35281 41.93117, -71.35236 41.931...\n",
      "2     631300   8.960974  POLYGON ((-71.29017 41.94444, -71.29021 41.944...\n",
      "3     631200  17.019618  POLYGON ((-71.30786 41.96025, -71.30804 41.959...\n",
      "4     631400   0.790492  POLYGON ((-71.29125 41.94414, -71.29094 41.944...\n",
      "..       ...        ...                                                ...\n",
      "969   260700   2.537014  POLYGON ((-71.11598 42.78340, -71.11584 42.783...\n",
      "970   260900   2.993848  POLYGON ((-71.12079 42.76844, -71.12069 42.768...\n",
      "971   260800   0.941658  POLYGON ((-71.09719 42.76304, -71.09696 42.764...\n",
      "972   261000   1.511648  POLYGON ((-71.08517 42.76375, -71.08570 42.763...\n",
      "973   260100   0.888183  POLYGON ((-71.08716 42.77758, -71.08786 42.779...\n",
      "\n",
      "[974 rows x 3 columns], 'bounding_box': (-71.728385, 41.762821, -70.525567, 42.88679), 'nodes': None, 'edges': None, 'osmid2index': defaultdict(None, {}), 'index2osmid': defaultdict(None, {}), 'start': 7, 'end': 8, 'R': 1, 'Files2Upload': defaultdict(<class 'list'>, {}), 'gdf_hexagons': None, 'grid': None, 'rings': None, 'lattice': None, 'polygon2OD': None, 'OD2polygon': None, 'hexagon2OD': None, 'OD2hexagon': None, 'grid2OD': None, 'OD2grid': None, 'ring2OD': None, 'OD2ring': None}\n"
     ]
    }
   ],
   "source": [
    "def EstimateBestInitialGuess2Params(bins,n,label):\n",
    "    alpha = -1.\n",
    "    binsMax = bins[-1]\n",
    "    binsMin = bins[1]\n",
    "    Integral = np.sum([n[i]*bins[i+1] for i in range(len(bins[1:]))])\n",
    "    if label == 'powerlaw':\n",
    "        A = Integral*alpha*(binsMax**(alpha+1)-binsMin**(alpha+1))**(-1)\n",
    "        return A,alpha\n",
    "    elif label == 'exponential':\n",
    "        A = Integral*(np.exp(-alpha*binsMin)-np.exp(-alpha*binsMax))**(-1)\n",
    "        return A,alpha\n",
    "    else:\n",
    "        return None\n",
    "def Pt0GivenDLC0(edges):\n",
    "    t0s = edges.apply(lambda x: x['length']/x['speed_mph'],axis=1)\n",
    "    nTime,binsTime = np.histogram(t0s,bins=100)\n",
    "    A,alpha = EstimateBestInitialGuess2Params(binsTime, nTime, 'powerlaw')\n",
    "    fitPl = Fitting(binsTime,nTime,label = 'powerlaw',initial_guess = (A,alpha),maxfev = 10000)\n",
    "    A,alpha = EstimateBestInitialGuess2Params(binsTime, nTime, 'expoenntial')\n",
    "    fitExp = Fitting(binsTime,nTime,label = 'exponential',initial_guess = (A,alpha),maxfev = 10000)\n",
    "    \n",
    "def PlotProbability(binsTime,nTime,fitPl,fitExp):\n",
    "    '''\n",
    "        Plot the probability of the time of travel\n",
    "    '''\n",
    "    fig,ax = plt.subplots(1,1,figsize=(8,8))\n",
    "    ax.plot(binsTime[1:],nTime/np.sum(nTime),label='Empirical')\n",
    "    ax.plot(binsTime[1:],fitPl[0](binsTime[1:]),label='Power Law')\n",
    "    ax.plot(binsTime[1:],fitExp[0](binsTime[1:]),label='Exponential')\n",
    "    ax.set_xscale('log')\n",
    "    ax.set_yscale('log')\n",
    "    ax.legend()\n",
    "    plt.show()\n",
    "    "
   ]
  },
  {
   "cell_type": "code",
   "execution_count": null,
   "metadata": {},
   "outputs": [],
   "source": [
    "def MorletWavelet(x, sigma):\n",
    "    # Compute the complex exponential\n",
    "    complex_exponential = np.exp(2j * np.pi * x / sigma)\n",
    "    # Take the real part to get the cosine\n",
    "    cosine = complex_exponential.real\n",
    "    \n",
    "    # Compute the Gaussian and multiply by the cosine\n",
    "    return np.exp(-x**2 / 2) * cosine"
   ]
  }
 ],
 "metadata": {
  "kernelspec": {
   "display_name": "geostuff",
   "language": "python",
   "name": "python3"
  },
  "language_info": {
   "codemirror_mode": {
    "name": "ipython",
    "version": 3
   },
   "file_extension": ".py",
   "mimetype": "text/x-python",
   "name": "python",
   "nbconvert_exporter": "python",
   "pygments_lexer": "ipython3",
   "version": "3.12.2"
  }
 },
 "nbformat": 4,
 "nbformat_minor": 2
}
